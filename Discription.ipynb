{
 "cells": [
  {
   "cell_type": "code",
   "execution_count": 1,
   "metadata": {},
   "outputs": [],
   "source": [
    "import pandas as pd\n",
    "import numpy as np\n"
   ]
  },
  {
   "cell_type": "code",
   "execution_count": 7,
   "metadata": {},
   "outputs": [],
   "source": [
    "df = pd.read_excel('data.xlsx')"
   ]
  },
  {
   "cell_type": "code",
   "execution_count": 10,
   "metadata": {},
   "outputs": [
    {
     "name": "stdout",
     "output_type": "stream",
     "text": [
      "        Placebo    drag 1    drag 2\n",
      "count  7.000000  7.000000  7.000000\n",
      "mean   1.671429  5.000000  6.900000\n",
      "std    1.677015  0.653197  1.441064\n",
      "min   -0.700000  3.900000  4.500000\n",
      "25%    0.450000  4.750000  6.350000\n",
      "50%    2.000000  5.200000  6.900000\n",
      "75%    2.900000  5.250000  7.650000\n",
      "max    3.700000  5.900000  8.900000\n"
     ]
    }
   ],
   "source": [
    "# Compute the descriptive statistics\n",
    "descriptive_stats = df.describe()\n",
    "\n",
    "# Display the results\n",
    "print(descriptive_stats)\n"
   ]
  }
 ],
 "metadata": {
  "kernelspec": {
   "display_name": "Python 3",
   "language": "python",
   "name": "python3"
  },
  "language_info": {
   "codemirror_mode": {
    "name": "ipython",
    "version": 3
   },
   "file_extension": ".py",
   "mimetype": "text/x-python",
   "name": "python",
   "nbconvert_exporter": "python",
   "pygments_lexer": "ipython3",
   "version": "3.8.0"
  },
  "orig_nbformat": 4
 },
 "nbformat": 4,
 "nbformat_minor": 2
}
